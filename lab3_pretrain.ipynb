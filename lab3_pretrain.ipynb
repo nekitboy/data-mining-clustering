{
 "cells": [
  {
   "cell_type": "markdown",
   "metadata": {
    "collapsed": true
   },
   "source": []
  },
  {
   "cell_type": "markdown",
   "metadata": {},
   "source": [
    "#Data Mining: Lab3"
   ]
  },
  {
   "cell_type": "markdown",
   "metadata": {},
   "source": [
    "## Implementation of Autoencoder\n",
    "---"
   ]
  },
  {
   "cell_type": "markdown",
   "metadata": {},
   "source": [
    "Get MNIST training set and data set and do some preprocessing."
   ]
  },
  {
   "cell_type": "code",
   "execution_count": 1,
   "metadata": {},
   "outputs": [],
   "source": [
    "from keras.datasets import mnist\n",
    "import numpy as np\n",
    "\n",
    "(x_train, y_train), (x_test, y_test) = mnist.load_data()\n",
    "\n",
    "x_train = x_train.astype('float32') / 255.\n",
    "\n",
    "x_test  = x_test .astype('float32') / 255.\n",
    "\n",
    "x_train = np.reshape(x_train, (len(x_train), 28, 28, 1))\n",
    "\n",
    "x_test  = np.reshape(x_test,  (len(x_test),  28, 28, 1))"
   ]
  },
  {
   "cell_type": "markdown",
   "metadata": {},
   "source": [
    "---"
   ]
  },
  {
   "cell_type": "markdown",
   "metadata": {},
   "source": [
    "Create autoencoder model with encoder and decoder.\n",
    "Ecnoder has 1 input, 3 hidden and 1 output layers.\n",
    "Decoder has 1 input, 3 hidden and 1 output layers too.\n",
    "With this hyperparameters we get best answer, so we deside to stop on this variant.\n",
    "Layers: 784 -> 500 -> 500 -> 2000 -> 2000 -> 500 -> 500 -> 784"
   ]
  },
  {
   "cell_type": "code",
   "execution_count": 2,
   "metadata": {
    "collapsed": false
   },
   "outputs": [
    {
     "name": "stderr",
     "output_type": "stream",
     "text": [
      "Using TensorFlow backend.\n"
     ]
    }
   ],
   "source": [
    "from keras import Sequential\n",
    "from keras.layers import Input, Dense, Flatten, Reshape\n",
    "from keras.models import Model\n",
    "\n",
    "def create_deep_dense_ae():\n",
    "    # Final dimension\n",
    "    encoding_dim = 10\n",
    "\n",
    "    # Encoder\n",
    "    input_img = Input(shape=(28, 28, 1))\n",
    "    flat_img = Flatten()(input_img)\n",
    "    x = Dense(500, activation='relu')(flat_img)\n",
    "    x = Dense(500, activation='relu')(x)\n",
    "    x = Dense(2000, activation='relu')(x)\n",
    "    encoded = Dense(encoding_dim, activation='linear')(x)\n",
    "\n",
    "    # Decoder\n",
    "    input_encoded = Input(shape=(encoding_dim,))\n",
    "    x = Dense(2000, activation='relu')(input_encoded)\n",
    "    x = Dense(500, activation='relu')(x)\n",
    "    x = Dense(500, activation='relu')(x)\n",
    "    flat_decoded = Dense(28 * 28, activation='sigmoid')(x)\n",
    "    decoded = Reshape((28, 28, 1))(flat_decoded)\n",
    "\n",
    "    # Models\n",
    "    encoder = Model(input_img, encoded, name=\"encoder\")\n",
    "    decoder = Model(input_encoded, decoded, name=\"decoder\")\n",
    "    autoencoder = Model(input_img, decoder(encoder(input_img)), name=\"autoencoder\")\n",
    "    return encoder, decoder, autoencoder"
   ]
  },
  {
   "cell_type": "markdown",
   "metadata": {},
   "source": [
    "---"
   ]
  },
  {
   "cell_type": "markdown",
   "metadata": {},
   "source": [
    "Fit model and save modeles.\n"
   ]
  },
  {
   "cell_type": "code",
   "execution_count": 3,
   "metadata": {},
   "outputs": [],
   "source": [
    "encoder, decoder, autoencoder = create_deep_dense_ae()\n",
    "autoencoder.compile(optimizer='adam', loss='binary_crossentropy')\n",
    "\n",
    "autoencoder.summary()\n",
    "autoencoder.fit(x_train, x_train,\n",
    "                epochs=40,\n",
    "                batch_size=256,\n",
    "                shuffle=True,\n",
    "                validation_data=(x_test, x_test))\n",
    "\n",
    "encoder.save(\"encoder_model_saved.h5\")\n",
    "decoder.save(\"decoder_model_saved.h5\")"
   ]
  }
 ],
 "metadata": {
  "kernelspec": {
   "display_name": "Python 2",
   "language": "python",
   "name": "python2"
  },
  "language_info": {
   "codemirror_mode": {
    "name": "ipython",
    "version": 2
   },
   "file_extension": ".py",
   "mimetype": "text/x-python",
   "name": "python",
   "nbconvert_exporter": "python",
   "pygments_lexer": "ipython2",
   "version": "2.7.6"
  }
 },
 "nbformat": 4,
 "nbformat_minor": 0
}
